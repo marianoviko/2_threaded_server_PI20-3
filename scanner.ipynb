{
 "cells": [
  {
   "cell_type": "code",
   "execution_count": null,
   "metadata": {},
   "outputs": [],
   "source": [
    "import socket\n",
    "from concurrent.futures import ThreadPoolExecutor\n",
    "import tqdm\n",
    "\n",
    "def scan_port(host, port, progress_bar, ports):\n",
    "    sock = socket.socket() #создаем сокет\n",
    "    sock.settimeout(0.3)\n",
    "    try:\n",
    "        sock.connect((host, port)) #пытаемся подключиться к порту\n",
    "        ports.append(port)\n",
    "    except:\n",
    "        pass\n",
    "    progress_bar.update()\n",
    "\n",
    "\n",
    "host = input('Введите адрес: ')\n",
    "start_port = int(input('Введите минимальный порт: '))\n",
    "end_port = int(input('Введите максимальный порт: '))\n",
    "thread = int(input('Введите количество потоков, которые нужно использовать для сканирования одновременно: '))\n",
    "\n",
    "\n",
    "\n",
    "open_ports = [] #список открытых портов\n",
    "progress_bar = tqdm.tqdm(total=end_port-start_port+1)\n",
    "\n",
    "with ThreadPoolExecutor(thread) as executor: #создание исполнительного блока экземпляра ThreadPoolExecutor, который будет быстро очищать потоки после завершения работы\n",
    "    futures = []\n",
    "    for port in range(start_port, end_port+1):\n",
    "        future = executor.submit(scan_port, host, port, progress_bar, open_ports) #возвращает объект future из futures\n",
    "        futures.append(future)\n",
    "    for future in futures:\n",
    "        future.result() #Вызываем для всех отправленных вызовов, чтобы программа не пропустила никаких исключений функции.\n",
    "\n",
    "progress_bar.close()\n",
    "\n",
    "\n",
    "for port in open_ports:\n",
    "    print(f'Port {port} is opened!')\n",
    "    "
   ]
  },
  {
   "cell_type": "code",
   "execution_count": null,
   "metadata": {},
   "outputs": [],
   "source": []
  }
 ],
 "metadata": {
  "kernelspec": {
   "display_name": "Python 3",
   "language": "python",
   "name": "python3"
  },
  "language_info": {
   "codemirror_mode": {
    "name": "ipython",
    "version": 3
   },
   "file_extension": ".py",
   "mimetype": "text/x-python",
   "name": "python",
   "nbconvert_exporter": "python",
   "pygments_lexer": "ipython3",
   "version": "3.8.3"
  }
 },
 "nbformat": 4,
 "nbformat_minor": 4
}
