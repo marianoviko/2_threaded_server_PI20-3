{
 "cells": [
  {
   "cell_type": "code",
   "execution_count": null,
   "metadata": {},
   "outputs": [
    {
     "name": "stdout",
     "output_type": "stream",
     "text": [
      "Listening at 127.0.0.1:3000\n",
      "Client 56181 joined chat\n",
      "Client 57916 joined chat\n"
     ]
    }
   ],
   "source": [
    "import socket\n",
    "\n",
    "UDP_MAX_SIZE = 65535\n",
    "\n",
    "def listen(host = '127.0.0.1', port = 3000):\n",
    "\ts = socket.socket(socket.AF_INET, socket.SOCK_DGRAM)\n",
    "\n",
    "\ts.bind((host, port)) #прослушивание по указанному хосту и порту\n",
    "\tprint(f'Listening at {host}:{port}')\n",
    "\n",
    "\tmembers = []\n",
    "\twhile True:\n",
    "\t\tmsg, addr = s.recvfrom(UDP_MAX_SIZE)\n",
    "\n",
    "\t\tif addr not in members:\n",
    "\t\t\tmembers.append(addr) #добавляем пользователя в список участников\n",
    "\n",
    "\t\tif not msg:\n",
    "\t\t\tcontinue\n",
    "\n",
    "\t\tclient_id = addr[1] #в качестве client_id используем порт\n",
    "\t\tif msg.decode('ascii') == '__join':\n",
    "\t\t\tprint(f'Client {client_id} joined chat')\n",
    "\t\t\tcontinue\n",
    "\n",
    "\t\tmsg = f'client {client_id}: {msg.decode(\"ascii\")}'\n",
    "\t\tfor member in members:\n",
    "\t\t\tif member == addr:\n",
    "\t\t\t\tcontinue\n",
    "\t\t\ts.sendto(msg.encode('ascii'), member)\n",
    "\n",
    "if __name__ == \"__main__\":\n",
    "\tlisten()"
   ]
  },
  {
   "cell_type": "code",
   "execution_count": null,
   "metadata": {},
   "outputs": [],
   "source": []
  }
 ],
 "metadata": {
  "kernelspec": {
   "display_name": "Python 3",
   "language": "python",
   "name": "python3"
  },
  "language_info": {
   "codemirror_mode": {
    "name": "ipython",
    "version": 3
   },
   "file_extension": ".py",
   "mimetype": "text/x-python",
   "name": "python",
   "nbconvert_exporter": "python",
   "pygments_lexer": "ipython3",
   "version": "3.8.3"
  }
 },
 "nbformat": 4,
 "nbformat_minor": 4
}
